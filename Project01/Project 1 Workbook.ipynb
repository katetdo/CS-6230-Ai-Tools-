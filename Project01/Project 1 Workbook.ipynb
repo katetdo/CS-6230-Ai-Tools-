{
 "cells": [
  {
   "cell_type": "code",
   "execution_count": 1,
   "id": "e3ada6d5",
   "metadata": {},
   "outputs": [],
   "source": [
    "import numpy as np\n",
    "import scipy.stats as stats\n",
    "import matplotlib.pyplot as plt\n",
    "import pandas as pd\n",
    "import seaborn as sns\n",
    "products = pd.read_table(\"products.tsv\")\n",
    "transactions = pd.read_table(\"transactions.tsv\")\n",
    "transaction_products = pd.read_table(\"transactionProducts.tsv\")"
   ]
  },
  {
   "cell_type": "code",
   "execution_count": 2,
   "id": "c23a75bf",
   "metadata": {},
   "outputs": [],
   "source": [
    "products = products.rename(columns={'id': 'product_id'})\n",
    "transactions = transactions.rename(columns={'id': 'transaction_id'})\n",
    "book = transaction_products.merge(products, how='outer', on='product_id')\n",
    "book = book.merge(transactions, how='outer', on='transaction_id')"
   ]
  },
  {
   "cell_type": "code",
   "execution_count": 3,
   "id": "16e6b230",
   "metadata": {
    "scrolled": true
   },
   "outputs": [
    {
     "data": {
      "text/html": [
       "<div>\n",
       "<style scoped>\n",
       "    .dataframe tbody tr th:only-of-type {\n",
       "        vertical-align: middle;\n",
       "    }\n",
       "\n",
       "    .dataframe tbody tr th {\n",
       "        vertical-align: top;\n",
       "    }\n",
       "\n",
       "    .dataframe thead th {\n",
       "        text-align: right;\n",
       "    }\n",
       "</style>\n",
       "<table border=\"1\" class=\"dataframe\">\n",
       "  <thead>\n",
       "    <tr style=\"text-align: right;\">\n",
       "      <th></th>\n",
       "      <th>transaction_id</th>\n",
       "      <th>product_id</th>\n",
       "      <th>animal_type</th>\n",
       "      <th>category</th>\n",
       "      <th>subcategory</th>\n",
       "      <th>customer_id</th>\n",
       "      <th>month</th>\n",
       "    </tr>\n",
       "  </thead>\n",
       "  <tbody>\n",
       "    <tr>\n",
       "      <th>0</th>\n",
       "      <td>0</td>\n",
       "      <td>10</td>\n",
       "      <td>CAT</td>\n",
       "      <td>ACCESSORIES</td>\n",
       "      <td>LITTER_BEDDING</td>\n",
       "      <td>0</td>\n",
       "      <td>JANUARY</td>\n",
       "    </tr>\n",
       "    <tr>\n",
       "      <th>1</th>\n",
       "      <td>0</td>\n",
       "      <td>5</td>\n",
       "      <td>CAT</td>\n",
       "      <td>FOOD</td>\n",
       "      <td>DRY_FOOD</td>\n",
       "      <td>0</td>\n",
       "      <td>JANUARY</td>\n",
       "    </tr>\n",
       "    <tr>\n",
       "      <th>2</th>\n",
       "      <td>0</td>\n",
       "      <td>11</td>\n",
       "      <td>CAT</td>\n",
       "      <td>TOYS</td>\n",
       "      <td>INDOOR_TOYS</td>\n",
       "      <td>0</td>\n",
       "      <td>JANUARY</td>\n",
       "    </tr>\n",
       "    <tr>\n",
       "      <th>3</th>\n",
       "      <td>1</td>\n",
       "      <td>10</td>\n",
       "      <td>CAT</td>\n",
       "      <td>ACCESSORIES</td>\n",
       "      <td>LITTER_BEDDING</td>\n",
       "      <td>0</td>\n",
       "      <td>JANUARY</td>\n",
       "    </tr>\n",
       "    <tr>\n",
       "      <th>4</th>\n",
       "      <td>1</td>\n",
       "      <td>5</td>\n",
       "      <td>CAT</td>\n",
       "      <td>FOOD</td>\n",
       "      <td>DRY_FOOD</td>\n",
       "      <td>0</td>\n",
       "      <td>JANUARY</td>\n",
       "    </tr>\n",
       "  </tbody>\n",
       "</table>\n",
       "</div>"
      ],
      "text/plain": [
       "   transaction_id  product_id animal_type     category     subcategory  \\\n",
       "0               0          10         CAT  ACCESSORIES  LITTER_BEDDING   \n",
       "1               0           5         CAT         FOOD        DRY_FOOD   \n",
       "2               0          11         CAT         TOYS     INDOOR_TOYS   \n",
       "3               1          10         CAT  ACCESSORIES  LITTER_BEDDING   \n",
       "4               1           5         CAT         FOOD        DRY_FOOD   \n",
       "\n",
       "   customer_id    month  \n",
       "0            0  JANUARY  \n",
       "1            0  JANUARY  \n",
       "2            0  JANUARY  \n",
       "3            0  JANUARY  \n",
       "4            0  JANUARY  "
      ]
     },
     "execution_count": 3,
     "metadata": {},
     "output_type": "execute_result"
    }
   ],
   "source": [
    "book.head()"
   ]
  },
  {
   "cell_type": "code",
   "execution_count": 9,
   "id": "58da8b88",
   "metadata": {
    "scrolled": false
   },
   "outputs": [
    {
     "data": {
      "text/plain": [
       "Text(0, 0.5, 'Amount of Transactions')"
      ]
     },
     "execution_count": 9,
     "metadata": {},
     "output_type": "execute_result"
    },
    {
     "data": {
      "image/png": "[encoded data removed]",
      "text/plain": [
       "<Figure size 640x480 with 1 Axes>"
      ]
     },
     "metadata": {},
     "output_type": "display_data"
    }
   ],
   "source": [
    "df = book.groupby([\"customer_id\"]).count()\n",
    "df1 = df.sort_values(by=\"transaction_id\").head()\n",
    "df2 = df.sort_values(by=\"transaction_id\").tail()\n",
    "df = pd.concat([df1, df2]).reset_index()\n",
    "ax = df.plot.bar(x=\"customer_id\", y=\"transaction_id\", rot=0, legend=False)\n",
    "plt.title(\"Customers with least and most amount transactions\")\n",
    "plt.xlabel(\"Customer Id\")\n",
    "plt.ylabel(\"Amount of Transactions\")"
   ]
  },
  {
   "cell_type": "code",
   "execution_count": 26,
   "id": "36aa62f5",
   "metadata": {},
   "outputs": [
    {
     "data": {
      "text/html": [
       "<div>\n",
       "<style scoped>\n",
       "    .dataframe tbody tr th:only-of-type {\n",
       "        vertical-align: middle;\n",
       "    }\n",
       "\n",
       "    .dataframe tbody tr th {\n",
       "        vertical-align: top;\n",
       "    }\n",
       "\n",
       "    .dataframe thead th {\n",
       "        text-align: right;\n",
       "    }\n",
       "</style>\n",
       "<table border=\"1\" class=\"dataframe\">\n",
       "  <thead>\n",
       "    <tr style=\"text-align: right;\">\n",
       "      <th></th>\n",
       "      <th>transaction_id</th>\n",
       "      <th>product_id</th>\n",
       "      <th>animal_type</th>\n",
       "      <th>category</th>\n",
       "      <th>subcategory</th>\n",
       "      <th>month</th>\n",
       "    </tr>\n",
       "    <tr>\n",
       "      <th>customer_id</th>\n",
       "      <th></th>\n",
       "      <th></th>\n",
       "      <th></th>\n",
       "      <th></th>\n",
       "      <th></th>\n",
       "      <th></th>\n",
       "    </tr>\n",
       "  </thead>\n",
       "  <tbody>\n",
       "    <tr>\n",
       "      <th>56203</th>\n",
       "      <td>485</td>\n",
       "      <td>485</td>\n",
       "      <td>485</td>\n",
       "      <td>485</td>\n",
       "      <td>485</td>\n",
       "      <td>485</td>\n",
       "    </tr>\n",
       "    <tr>\n",
       "      <th>46310</th>\n",
       "      <td>494</td>\n",
       "      <td>494</td>\n",
       "      <td>494</td>\n",
       "      <td>494</td>\n",
       "      <td>494</td>\n",
       "      <td>494</td>\n",
       "    </tr>\n",
       "    <tr>\n",
       "      <th>94212</th>\n",
       "      <td>577</td>\n",
       "      <td>577</td>\n",
       "      <td>577</td>\n",
       "      <td>577</td>\n",
       "      <td>577</td>\n",
       "      <td>577</td>\n",
       "    </tr>\n",
       "    <tr>\n",
       "      <th>47266</th>\n",
       "      <td>641</td>\n",
       "      <td>641</td>\n",
       "      <td>641</td>\n",
       "      <td>641</td>\n",
       "      <td>641</td>\n",
       "      <td>641</td>\n",
       "    </tr>\n",
       "    <tr>\n",
       "      <th>88515</th>\n",
       "      <td>649</td>\n",
       "      <td>649</td>\n",
       "      <td>649</td>\n",
       "      <td>649</td>\n",
       "      <td>649</td>\n",
       "      <td>649</td>\n",
       "    </tr>\n",
       "  </tbody>\n",
       "</table>\n",
       "</div>"
      ],
      "text/plain": [
       "             transaction_id  product_id  animal_type  category  subcategory  \\\n",
       "customer_id                                                                   \n",
       "56203                   485         485          485       485          485   \n",
       "46310                   494         494          494       494          494   \n",
       "94212                   577         577          577       577          577   \n",
       "47266                   641         641          641       641          641   \n",
       "88515                   649         649          649       649          649   \n",
       "\n",
       "             month  \n",
       "customer_id         \n",
       "56203          485  \n",
       "46310          494  \n",
       "94212          577  \n",
       "47266          641  \n",
       "88515          649  "
      ]
     },
     "execution_count": 26,
     "metadata": {},
     "output_type": "execute_result"
    }
   ],
   "source": [
    "df2.sort_values(\"product_id\")"
   ]
  },
  {
   "cell_type": "code",
   "execution_count": null,
   "id": "f4e35422",
   "metadata": {},
   "outputs": [],
   "source": []
  },
  {
   "cell_type": "code",
   "execution_count": 10,
   "id": "d69ca134",
   "metadata": {},
   "outputs": [
    {
     "data": {
      "image/png": "[encoded data removed]",
      "text/plain": [
       "<Figure size 640x480 with 1 Axes>"
      ]
     },
     "metadata": {},
     "output_type": "display_data"
    }
   ],
   "source": [
    "food=book.groupby(\"month\").count().reset_index().reindex([4, 3, 7, 0, 8, 6, 5, 1, 11, 10, 9, 2])\n",
    "food.plot.bar(x=\"month\", y=\"transaction_id\", legend=False).set(xlabel=\"Month\", ylabel=\"Transactions\"), plt.title(\"Number of Transactions Per Month\"), plt.xticks(rotation=35)\n",
    "plt.ylim(500000, 650000)\n",
    "plt.show()"
   ]
  },
  {
   "cell_type": "code",
   "execution_count": 20,
   "id": "637813fc",
   "metadata": {},
   "outputs": [],
   "source": [
    "food1 = food.sort_values(by=\"transaction_id\").tail(6)\n",
    "food2 = food.sort_values(by=\"transaction_id\").head(6)"
   ]
  },
  {
   "cell_type": "code",
   "execution_count": 22,
   "id": "29458ddb",
   "metadata": {},
   "outputs": [
    {
     "data": {
      "text/plain": [
       "621945.0"
      ]
     },
     "execution_count": 22,
     "metadata": {},
     "output_type": "execute_result"
    }
   ],
   "source": [
    "food1[\"transaction_id\"].mean()"
   ]
  },
  {
   "cell_type": "code",
   "execution_count": 23,
   "id": "c6fd7662",
   "metadata": {},
   "outputs": [
    {
     "data": {
      "text/plain": [
       "541159.5"
      ]
     },
     "execution_count": 23,
     "metadata": {},
     "output_type": "execute_result"
    }
   ],
   "source": [
    "food2[\"transaction_id\"].mean()"
   ]
  },
  {
   "cell_type": "code",
   "execution_count": null,
   "id": "66aa5bd4",
   "metadata": {},
   "outputs": [],
   "source": []
  },
  {
   "cell_type": "code",
   "execution_count": null,
   "id": "b1d68b1b",
   "metadata": {},
   "outputs": [],
   "source": []
  },
  {
   "cell_type": "code",
   "execution_count": null,
   "id": "ef14245d",
   "metadata": {},
   "outputs": [],
   "source": []
  },
  {
   "cell_type": "code",
   "execution_count": null,
   "id": "b957a5ff",
   "metadata": {},
   "outputs": [],
   "source": []
  },
  {
   "cell_type": "code",
   "execution_count": null,
   "id": "779790ea",
   "metadata": {},
   "outputs": [],
   "source": []
  },
  {
   "cell_type": "code",
   "execution_count": null,
   "id": "66f6b971",
   "metadata": {},
   "outputs": [],
   "source": []
  },
  {
   "cell_type": "code",
   "execution_count": null,
   "id": "07852d3f",
   "metadata": {},
   "outputs": [],
   "source": []
  },
  {
   "cell_type": "code",
   "execution_count": null,
   "id": "2239d7b2",
   "metadata": {},
   "outputs": [],
   "source": []
  },
  {
   "cell_type": "code",
   "execution_count": null,
   "id": "89955c24",
   "metadata": {},
   "outputs": [],
   "source": []
  },
  {
   "cell_type": "code",
   "execution_count": null,
   "id": "8cd6b6fe",
   "metadata": {},
   "outputs": [],
   "source": []
  },
  {
   "cell_type": "code",
   "execution_count": null,
   "id": "ccc9aef3",
   "metadata": {},
   "outputs": [],
   "source": []
  },
  {
   "cell_type": "code",
   "execution_count": null,
   "id": "0ed17414",
   "metadata": {},
   "outputs": [],
   "source": []
  }
 ],
 "metadata": {
  "kernelspec": {
   "display_name": "Python 3 (ipykernel)",
   "language": "python",
   "name": "python3"
  },
  "language_info": {
   "codemirror_mode": {
    "name": "ipython",
    "version": 3
   },
   "file_extension": ".py",
   "mimetype": "text/x-python",
   "name": "python",
   "nbconvert_exporter": "python",
   "pygments_lexer": "ipython3",
   "version": "3.10.7"
  }
 },
 "nbformat": 4,
 "nbformat_minor": 5
}
