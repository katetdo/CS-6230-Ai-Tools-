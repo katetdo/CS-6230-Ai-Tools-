{
 "cells": [
  {
   "cell_type": "code",
   "execution_count": 1,
   "id": "399166e5",
   "metadata": {},
   "outputs": [
    {
     "ename": "ModuleNotFoundError",
     "evalue": "No module named 'graphviz'",
     "output_type": "error",
     "traceback": [
      "\u001b[1;31m---------------------------------------------------------------------------\u001b[0m",
      "\u001b[1;31mModuleNotFoundError\u001b[0m                       Traceback (most recent call last)",
      "Cell \u001b[1;32mIn [1], line 6\u001b[0m\n\u001b[0;32m      4\u001b[0m \u001b[38;5;28;01mimport\u001b[39;00m \u001b[38;5;21;01mpandas\u001b[39;00m \u001b[38;5;28;01mas\u001b[39;00m \u001b[38;5;21;01mpd\u001b[39;00m\n\u001b[0;32m      5\u001b[0m \u001b[38;5;28;01mimport\u001b[39;00m \u001b[38;5;21;01mseaborn\u001b[39;00m \u001b[38;5;28;01mas\u001b[39;00m \u001b[38;5;21;01msns\u001b[39;00m\n\u001b[1;32m----> 6\u001b[0m \u001b[38;5;28;01mimport\u001b[39;00m \u001b[38;5;21;01mgraphviz\u001b[39;00m \u001b[38;5;28;01mas\u001b[39;00m \u001b[38;5;21;01mg\u001b[39;00m\n\u001b[0;32m      8\u001b[0m \u001b[38;5;28;01mfrom\u001b[39;00m \u001b[38;5;21;01msklearn\u001b[39;00m \u001b[38;5;28;01mimport\u001b[39;00m preprocessing, tree\n\u001b[0;32m      9\u001b[0m \u001b[38;5;28;01mfrom\u001b[39;00m \u001b[38;5;21;01msklearn\u001b[39;00m\u001b[38;5;21;01m.\u001b[39;00m\u001b[38;5;21;01mmodel_selection\u001b[39;00m \u001b[38;5;28;01mimport\u001b[39;00m train_test_split\n",
      "\u001b[1;31mModuleNotFoundError\u001b[0m: No module named 'graphviz'"
     ]
    }
   ],
   "source": [
    "import numpy as np\n",
    "import scipy.stats as stats\n",
    "import matplotlib.pyplot as plt\n",
    "import pandas as pd\n",
    "import seaborn as sns\n",
    "import graphviz as g\n",
    "\n",
    "from sklearn import preprocessing, tree\n",
    "from sklearn.model_selection import train_test_split\n",
    "from sklearn.tree import DecisionTreeClassifier, export_graphviz\n",
    "from sklearn.metrics import accuracy_score, confusion_matrix\n",
    "\n",
    "import warnings\n",
    "warnings.filterwarnings('ignore')\n",
    "le = preprocessing.LabelEncoder()\n",
    "clf = DecisionTreeClassifier(random_state=0)"
   ]
  },
  {
   "cell_type": "code",
   "execution_count": null,
   "id": "278fb2c3",
   "metadata": {
    "scrolled": false
   },
   "outputs": [],
   "source": [
    "mushrooms = pd.read_csv(\"mushrooms.csv\")"
   ]
  },
  {
   "cell_type": "markdown",
   "id": "6a6c9599",
   "metadata": {},
   "source": [
    "# 1a\n",
    "What are the variable types?  How many values does each variable have?\n",
    "- all of the types are objects but from the head function, we can see they're all letters except for stalk-root which also has '?' as a possible value \n",
    "- most variables are between 2-5 values with a few like gill color which have about 12 difference values "
   ]
  },
  {
   "cell_type": "code",
   "execution_count": null,
   "id": "193595a6",
   "metadata": {},
   "outputs": [],
   "source": [
    "mushrooms.head()"
   ]
  },
  {
   "cell_type": "code",
   "execution_count": null,
   "id": "87cf0c9a",
   "metadata": {},
   "outputs": [],
   "source": [
    "mushrooms.info()"
   ]
  },
  {
   "cell_type": "code",
   "execution_count": null,
   "id": "077a9a14",
   "metadata": {},
   "outputs": [],
   "source": [
    "pd.set_option('display.max_columns', None)\n",
    "mushrooms.describe()"
   ]
  },
  {
   "cell_type": "markdown",
   "id": "c9a750ca",
   "metadata": {},
   "source": [
    "# 1c\n",
    "Which column indicates whether the mushrooms are poison or editable?  This will be the output variable that we are predicting.\n",
    "\n",
    "- The class column indicated poison (p) or edible(e)\n",
    "\n",
    "# 1d\n",
    "Which columns can be used as the input variables?\n",
    "- Any of the 2 option columns could be used (I'm not actually sure make sure to ask this question)\n",
    "- Probably won't use veil type at all though since it has only one unique value"
   ]
  },
  {
   "cell_type": "code",
   "execution_count": null,
   "id": "102228fd",
   "metadata": {},
   "outputs": [],
   "source": [
    "#mushrooms.drop(\"veil-type\", inplace=True, axis=1)\n",
    "mushrooms.head()"
   ]
  },
  {
   "cell_type": "code",
   "execution_count": null,
   "id": "f9c674c8",
   "metadata": {},
   "outputs": [],
   "source": [
    "mushrooms[[\"class\", \"cap-shape\", \"cap-surface\", \"cap-color\", \"bruises\", \"odor\", \"gill-attachment\", \"gill-spacing\", \"gill-size\", \"gill-color\", \"stalk-shape\", \"stalk-root\", \"stalk-surface-above-ring\", \"stalk-surface-below-ring\", \"stalk-color-above-ring\", \"stalk-color-below-ring\", \"veil-type\",\"veil-color\", \"ring-number\", \"ring-type\", \"spore-print-color\", \"population\", \"habitat\"]] = mushrooms[[\"class\", \"cap-shape\", \"cap-surface\", \"cap-color\", \"bruises\", \"odor\", \"gill-attachment\", \"gill-spacing\", \"gill-size\", \"gill-color\", \"stalk-shape\", \"stalk-root\", \"stalk-surface-above-ring\", \"stalk-surface-below-ring\", \"stalk-color-above-ring\", \"stalk-color-below-ring\", \"veil-type\",\"veil-color\", \"ring-number\", \"ring-type\", \"spore-print-color\", \"population\", \"habitat\"]].astype(\"category\")"
   ]
  },
  {
   "cell_type": "code",
   "execution_count": null,
   "id": "525bfebc",
   "metadata": {},
   "outputs": [],
   "source": [
    "mushrooms.info()"
   ]
  },
  {
   "cell_type": "code",
   "execution_count": null,
   "id": "6c9497cf",
   "metadata": {},
   "outputs": [],
   "source": [
    "mushrooms.to_numpy()"
   ]
  },
  {
   "cell_type": "markdown",
   "id": "d7aef18e",
   "metadata": {},
   "source": [
    "# 2\n"
   ]
  },
  {
   "cell_type": "code",
   "execution_count": null,
   "id": "8df48e45",
   "metadata": {},
   "outputs": [],
   "source": [
    "le.fit([\"e\", \"p\"])\n",
    "le.transform([\"p\", \"p\", \"e\"])"
   ]
  },
  {
   "cell_type": "code",
   "execution_count": null,
   "id": "cdca269b",
   "metadata": {},
   "outputs": [],
   "source": [
    "le.fit([\"e\", \"p\"])\n",
    "eatery = le.transform(mushrooms[\"class\"])\n",
    "eatery = pd.DataFrame(eatery, columns=['class'])"
   ]
  },
  {
   "cell_type": "code",
   "execution_count": null,
   "id": "e1173130",
   "metadata": {},
   "outputs": [],
   "source": [
    "eatery"
   ]
  },
  {
   "cell_type": "markdown",
   "id": "f8690c4f",
   "metadata": {},
   "source": [
    "# 3"
   ]
  },
  {
   "cell_type": "code",
   "execution_count": null,
   "id": "6b9e5014",
   "metadata": {},
   "outputs": [],
   "source": [
    "dummies = pd.get_dummies(mushrooms[\"class\"])"
   ]
  },
  {
   "cell_type": "code",
   "execution_count": null,
   "id": "5e1b2996",
   "metadata": {},
   "outputs": [],
   "source": [
    "#iterates over the column Names in the df, keep columnData even if not using it because it'll print the data otherwise\n",
    "myList = []\n",
    "for (columnName, columnData) in mushrooms.iteritems():\n",
    "    dummy = pd.get_dummies(mushrooms[columnName], prefix=columnName)\n",
    "    myList.append(dummy)"
   ]
  },
  {
   "cell_type": "code",
   "execution_count": null,
   "id": "ea9e0fa1",
   "metadata": {},
   "outputs": [],
   "source": [
    "#should have 117 but have 116? did not include veil type or outcomes(poison or edible)\n",
    "#have 117 now with veil type and no outcomes\n",
    "df = pd.concat([ myList[1], myList[2], myList[3], myList[4], myList[5], myList[6], myList[7], myList[8], myList[9], myList[10], myList[11], myList[12], myList[13], myList[14], myList[15], myList[16], myList[17], myList[18], myList[19], myList[20], myList[21], myList[22]], axis = 1)"
   ]
  },
  {
   "cell_type": "code",
   "execution_count": null,
   "id": "e054e61f",
   "metadata": {
    "scrolled": false
   },
   "outputs": [],
   "source": [
    "df"
   ]
  },
  {
   "cell_type": "code",
   "execution_count": null,
   "id": "9e14c75b",
   "metadata": {},
   "outputs": [],
   "source": [
    "df.to_numpy()"
   ]
  },
  {
   "cell_type": "markdown",
   "id": "1b095696",
   "metadata": {},
   "source": [
    "# 4"
   ]
  },
  {
   "cell_type": "code",
   "execution_count": null,
   "id": "02a214e0",
   "metadata": {},
   "outputs": [],
   "source": [
    "# x = input_variable_table.values -> x = df.to_numpy()\n",
    "# y = encoder.fit_transform(outputs) -> eatery[[\"class\"]].to_numpy()"
   ]
  },
  {
   "cell_type": "code",
   "execution_count": null,
   "id": "662d34c7",
   "metadata": {},
   "outputs": [],
   "source": [
    "x = df.to_numpy()\n",
    "y = eatery[[\"class\"]].to_numpy()"
   ]
  },
  {
   "cell_type": "code",
   "execution_count": null,
   "id": "5e076951",
   "metadata": {},
   "outputs": [],
   "source": [
    "y"
   ]
  },
  {
   "cell_type": "code",
   "execution_count": null,
   "id": "96f97876",
   "metadata": {},
   "outputs": [],
   "source": [
    "#train test split defaults test % to 25 and train to 75\n",
    "x_train, x_test, y_train, y_test = train_test_split(x, y, stratify = eatery)"
   ]
  },
  {
   "cell_type": "code",
   "execution_count": null,
   "id": "08a9c2a5",
   "metadata": {},
   "outputs": [],
   "source": [
    "x_train"
   ]
  },
  {
   "cell_type": "code",
   "execution_count": null,
   "id": "346482aa",
   "metadata": {},
   "outputs": [],
   "source": [
    "x_test"
   ]
  },
  {
   "cell_type": "code",
   "execution_count": null,
   "id": "957c55e7",
   "metadata": {},
   "outputs": [],
   "source": [
    "y_train"
   ]
  },
  {
   "cell_type": "code",
   "execution_count": null,
   "id": "68190d1c",
   "metadata": {},
   "outputs": [],
   "source": [
    "y_test"
   ]
  },
  {
   "cell_type": "markdown",
   "id": "57e25756",
   "metadata": {},
   "source": [
    "# 5"
   ]
  },
  {
   "cell_type": "markdown",
   "id": "4adddef8",
   "metadata": {},
   "source": [
    "# Training Set"
   ]
  },
  {
   "cell_type": "code",
   "execution_count": null,
   "id": "bd451846",
   "metadata": {},
   "outputs": [],
   "source": [
    "# Decision tree model using TRAINING set\n",
    "trainTree = clf.fit(x_train, y_train)\n",
    "trainTree.get_n_leaves()"
   ]
  },
  {
   "cell_type": "code",
   "execution_count": null,
   "id": "e6f7f10b",
   "metadata": {},
   "outputs": [],
   "source": [
    "x_train_predicted = trainTree.predict(x_train)"
   ]
  },
  {
   "cell_type": "code",
   "execution_count": null,
   "id": "8e844894",
   "metadata": {},
   "outputs": [],
   "source": [
    "x_train_predicted"
   ]
  },
  {
   "cell_type": "code",
   "execution_count": null,
   "id": "5ed73eb5",
   "metadata": {},
   "outputs": [],
   "source": [
    "y_train"
   ]
  },
  {
   "cell_type": "markdown",
   "id": "ac4f7c5f",
   "metadata": {},
   "source": [
    "Calculate the accuracy score and a confusion matrix from the predicted and true labels.  This data set is relatively \"easy,\" so you should achieve 100% accuracy and your confusion matrix should only have non-zero entries on the diagonal."
   ]
  },
  {
   "cell_type": "code",
   "execution_count": null,
   "id": "0373f87e",
   "metadata": {},
   "outputs": [],
   "source": [
    "accuracy_score(y_train, x_train_predicted)"
   ]
  },
  {
   "cell_type": "code",
   "execution_count": null,
   "id": "856438bf",
   "metadata": {},
   "outputs": [],
   "source": [
    "confusion_matrix(y_train, x_train_predicted)"
   ]
  },
  {
   "cell_type": "markdown",
   "id": "8f399b99",
   "metadata": {},
   "source": [
    "# Testing Set"
   ]
  },
  {
   "cell_type": "code",
   "execution_count": null,
   "id": "823350c9",
   "metadata": {},
   "outputs": [],
   "source": [
    "# Decision tree model using TESTING set\n",
    "testTree = clf.fit(x_test, y_test)\n",
    "testTree.get_n_leaves()"
   ]
  },
  {
   "cell_type": "code",
   "execution_count": null,
   "id": "49011b0a",
   "metadata": {},
   "outputs": [],
   "source": [
    "x_test_predicted = testTree.predict(x_test)"
   ]
  },
  {
   "cell_type": "code",
   "execution_count": null,
   "id": "37804785",
   "metadata": {},
   "outputs": [],
   "source": [
    "accuracy_score(y_test, x_test_predicted)"
   ]
  },
  {
   "cell_type": "code",
   "execution_count": null,
   "id": "ac20fa35",
   "metadata": {},
   "outputs": [],
   "source": [
    "confusion_matrix(y_test, x_test_predicted)"
   ]
  },
  {
   "cell_type": "code",
   "execution_count": null,
   "id": "3039ab0e",
   "metadata": {},
   "outputs": [],
   "source": [
    "#d\n",
    "dot_data = export_graphviz(testTree,\n",
    "                           feature_names=df.columns,\n",
    "                           proportion=True,\n",
    "                           precision=2,\n",
    "                           rounded=True,\n",
    "                           class_names=le.classes_,\n",
    "                           impurity=False,\n",
    "                           leaves_parallel=True)\n",
    "graph = graphviz.Source(dot_data) \n",
    "graph"
   ]
  },
  {
   "cell_type": "code",
   "execution_count": null,
   "id": "581e9511",
   "metadata": {},
   "outputs": [],
   "source": []
  }
 ],
 "metadata": {
  "kernelspec": {
   "display_name": "Python 3 (ipykernel)",
   "language": "python",
   "name": "python3"
  },
  "language_info": {
   "codemirror_mode": {
    "name": "ipython",
    "version": 3
   },
   "file_extension": ".py",
   "mimetype": "text/x-python",
   "name": "python",
   "nbconvert_exporter": "python",
   "pygments_lexer": "ipython3",
   "version": "3.10.7"
  }
 },
 "nbformat": 4,
 "nbformat_minor": 5
}
